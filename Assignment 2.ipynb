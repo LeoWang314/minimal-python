{
  "nbformat": 4,
  "nbformat_minor": 0,
  "metadata": {
    "colab": {
      "name": "BA Project Practice.ipynb",
      "provenance": [],
      "authorship_tag": "ABX9TyOwL7UayTLJ5eRSkkBeuDQ7",
      "include_colab_link": true
    },
    "kernelspec": {
      "name": "python3",
      "display_name": "Python 3"
    }
  },
  "cells": [
    {
      "cell_type": "markdown",
      "metadata": {
        "id": "view-in-github",
        "colab_type": "text"
      },
      "source": [
        "<a href=\"https://colab.research.google.com/github/LeoWang314/minimal-python/blob/master/Assignment%202.ipynb\" target=\"_parent\"><img src=\"https://colab.research.google.com/assets/colab-badge.svg\" alt=\"Open In Colab\"/></a>"
      ]
    },
    {
      "cell_type": "markdown",
      "metadata": {
        "id": "dwOAzF3wDzK2"
      },
      "source": [
        ""
      ]
    },
    {
      "cell_type": "code",
      "metadata": {
        "colab": {
          "base_uri": "https://localhost:8080/"
        },
        "id": "9MSrGez5W02v",
        "outputId": "f7e28e6d-df73-428c-dc89-38a304dfbb0a"
      },
      "source": [
        "from bs4 import BeautifulSoup\n",
        "import urllib.request\n",
        "import re\n",
        "url='http://gutenberg.ca/index.html'\n",
        "req = urllib.request.Request(url)  \n",
        "webpage = urllib.request.urlopen(req)  \n",
        "html = webpage.read()\n",
        "soup = BeautifulSoup(html, 'html.parser')\n",
        "List = []\n",
        "target = \"hemingwaye\"\n",
        "for item in  soup.find_all(href=re.compile(target)):\n",
        "    List.append(item)\n",
        "\n",
        "\n",
        "Name=[]\n",
        "for i in List:\n",
        "  Separate=str(i).split(\"/\")\n",
        "  Type=str(i).split(\"/\")[2].split(\">\")[1].split()[0].split(\"<\")\n",
        "  if \"text\" == (str(Type[0]).lower()):\n",
        "    Name.append(Separate[1])\n",
        "  else:\n",
        "    continue\n",
        "\n",
        "book=[]\n",
        "for j in Name:\n",
        "  book.append(j.split(\"-\")[1])\n",
        "book=set(book)\n",
        "book=list(book)\n",
        "\n",
        "Keywords=[\"green\",\"hills\",\"of\",\"africa\",\"men\",\"without\",\"women\",\"sun\",\"also\",\"rises\",\"winner\",\n",
        "       \"take\",\"nothing\",\"old\",\"man\",\"and\",\"the\",\"sea\",\"across\",\"the\",\"river\"]\n",
        "\n",
        "letter=[]\n",
        "Title=[]\n",
        "title1=[]\n",
        "for m in book:\n",
        "  letter=list(m)\n",
        "  w=\"\"\n",
        "  overall=\"\"\n",
        "  for j in range(len(letter)):\n",
        "    w+=letter[j]\n",
        "    if w in Keywords:\n",
        "      if overall ==\"\":\n",
        "        overall=overall+w.capitalize()\n",
        "      else:\n",
        "        overall = overall+ \" \" + w.capitalize()\n",
        "      w=\"\"\n",
        "  Title.append(overall)\n",
        "\n",
        "print(Title)  \n",
        "\n",
        " \n",
        "\n",
        "\n",
        "\n",
        "\n"
      ],
      "execution_count": 82,
      "outputs": [
        {
          "output_type": "stream",
          "text": [
            "['Green Hills Of Africa', 'Men Without Women', 'Sun Also Rises', 'Winner Take Nothing', 'Old Man And The Sea', 'Across The River']\n"
          ],
          "name": "stdout"
        }
      ]
    }
  ]
}